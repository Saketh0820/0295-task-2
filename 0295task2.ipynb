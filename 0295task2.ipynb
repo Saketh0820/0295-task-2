{
  "nbformat": 4,
  "nbformat_minor": 0,
  "metadata": {
    "colab": {
      "provenance": [],
      "authorship_tag": "ABX9TyPBbohe6pdYXjqN/ay1Oz5e",
      "include_colab_link": true
    },
    "kernelspec": {
      "name": "python3",
      "display_name": "Python 3"
    },
    "language_info": {
      "name": "python"
    }
  },
  "cells": [
    {
      "cell_type": "markdown",
      "metadata": {
        "id": "view-in-github",
        "colab_type": "text"
      },
      "source": [
        "<a href=\"https://colab.research.google.com/github/Saketh0820/0295-task-2/blob/main/0295task2.ipynb\" target=\"_parent\"><img src=\"https://colab.research.google.com/assets/colab-badge.svg\" alt=\"Open In Colab\"/></a>"
      ]
    },
    {
      "cell_type": "code",
      "execution_count": 8,
      "metadata": {
        "id": "eduUS3GfL73U"
      },
      "outputs": [],
      "source": [
        "def Temperature_modeling(a,b,c,time):\n",
        "  Temperature = a*time**2 + b*time +c\n",
        "  return Temperature"
      ]
    },
    {
      "cell_type": "code",
      "source": [
        "#hardcore variables\n",
        "a,b,c=0.1,2,10\n",
        "time = 5"
      ],
      "metadata": {
        "id": "-THAV02eM-8-"
      },
      "execution_count": 9,
      "outputs": []
    },
    {
      "cell_type": "code",
      "source": [
        "#display results\n",
        "print(\"Hard-coded variables for weather modeling\")\n",
        "print(\"Temperature for hardcoded coefficients at time\",time,\"hours:\",Temperature_modeling(a,b,c,time))"
      ],
      "metadata": {
        "colab": {
          "base_uri": "https://localhost:8080/"
        },
        "id": "elzaJS-KNRmu",
        "outputId": "e7c140b6-9580-45d5-b7ba-7ac0dd2e0d12"
      },
      "execution_count": 10,
      "outputs": [
        {
          "output_type": "stream",
          "name": "stdout",
          "text": [
            "Hard-coded variables for weather modeling\n",
            "Temperature for hardcoded coefficients at time 5 hours: 22.5\n"
          ]
        }
      ]
    },
    {
      "cell_type": "markdown",
      "source": [
        "2.Accepting variables via keyboard input"
      ],
      "metadata": {
        "id": "lAyxSsGoQLbZ"
      }
    },
    {
      "cell_type": "code",
      "source": [
        "a=float(input(\"Enter coefficient a:\"))\n",
        "b=float(input(\"Enter coefficient b:\"))\n",
        "c=float(input(\"Enter coefficient c:\"))\n"
      ],
      "metadata": {
        "colab": {
          "base_uri": "https://localhost:8080/"
        },
        "id": "WAh1C13CPpoR",
        "outputId": "f66a807e-59e2-45dd-8f31-2b81232147d8"
      },
      "execution_count": 11,
      "outputs": [
        {
          "name": "stdout",
          "output_type": "stream",
          "text": [
            "Enter coefficient a:0.1\n",
            "Enter coefficient b:3\n",
            "Enter coefficient c:10\n"
          ]
        }
      ]
    },
    {
      "cell_type": "code",
      "source": [
        "time=float(input(\"enter time\"))"
      ],
      "metadata": {
        "colab": {
          "base_uri": "https://localhost:8080/"
        },
        "id": "TNmgdg7iRfUJ",
        "outputId": "fb012d08-3433-4e6a-9902-9968d2c66a98"
      },
      "execution_count": 13,
      "outputs": [
        {
          "name": "stdout",
          "output_type": "stream",
          "text": [
            "enter time5\n"
          ]
        }
      ]
    },
    {
      "cell_type": "code",
      "source": [
        "#variables read from keyboard\n",
        "print(\"Hard-coded variables for weather modeling\")\n",
        "print(\"Temperature for hardcoded coefficients at time\",time,\"hours:\",Temperature_modeling(a,b,c,time))"
      ],
      "metadata": {
        "colab": {
          "base_uri": "https://localhost:8080/"
        },
        "id": "y1-yswLtR2-5",
        "outputId": "49531b40-1047-411e-8874-9fa2cafe5c4e"
      },
      "execution_count": 15,
      "outputs": [
        {
          "output_type": "stream",
          "name": "stdout",
          "text": [
            "Hard-coded variables for weather modeling\n",
            "Temperature for hardcoded coefficients at time 5.0 hours: 27.5\n"
          ]
        }
      ]
    },
    {
      "cell_type": "markdown",
      "source": [
        "3.Reading variables from a files"
      ],
      "metadata": {
        "id": "hjMHXcuDSOlJ"
      }
    },
    {
      "cell_type": "code",
      "source": [
        "#Read coefficients from a file\n",
        "def read_from_file(filename):\n",
        "  with open(filename,'r')as file:\n",
        "    lines=file.readlines()\n",
        "  coefficients = [tuple(map(float,line.strip().split(',')))for line in lines]\n",
        "  return coefficients"
      ],
      "metadata": {
        "id": "2Amj07k4SKsB"
      },
      "execution_count": 17,
      "outputs": []
    },
    {
      "cell_type": "markdown",
      "source": [
        "4.processing a single set of inputs."
      ],
      "metadata": {
        "id": "QUCI5eCqTy6R"
      }
    },
    {
      "cell_type": "code",
      "source": [
        "#example:Solve for a single set of inputs\n",
        "coefficients = read_from_file('/content/untitled1.txt')\n",
        "a, b, c ,time = coefficients[0]\n",
        "Temperature = Temperature_modeling(a,b,c,time)\n",
        "print(\"Hard-coded variables for weather modeling\")\n",
        "print(\"Temperature for hardcoded coefficients at time\",time,\"hours:\",Temperature_modeling(a,b,c,time))\n"
      ],
      "metadata": {
        "colab": {
          "base_uri": "https://localhost:8080/"
        },
        "id": "LZNsgN1aTxFA",
        "outputId": "2e782e9f-b1e7-470b-c117-e212df38066c"
      },
      "execution_count": 21,
      "outputs": [
        {
          "output_type": "stream",
          "name": "stdout",
          "text": [
            "Hard-coded variables for weather modeling\n",
            "Temperature for hardcoded coefficients at time 3.0 hours: 35.9\n"
          ]
        }
      ]
    },
    {
      "cell_type": "code",
      "source": [
        "#Solve for all sets in the file\n",
        "for idx,(a , b , c, time)in enumerate(coefficients):\n",
        "  Temperature = Temperature_modeling(a,b,c,time)\n",
        "  print(\"Temperature for hardcoded coefficients at time\",time,\"hours:\",Temperature_modeling(a,b,c,time))\n",
        "\n"
      ],
      "metadata": {
        "colab": {
          "base_uri": "https://localhost:8080/"
        },
        "id": "28539YGwWqpd",
        "outputId": "b703ae87-6510-43ac-bcb4-0b9904a27002"
      },
      "execution_count": 22,
      "outputs": [
        {
          "output_type": "stream",
          "name": "stdout",
          "text": [
            "Temperature for hardcoded coefficients at time 3.0 hours: 35.9\n",
            "Temperature for hardcoded coefficients at time 2.0 hours: 48.8\n"
          ]
        }
      ]
    }
  ]
}